{
 "cells": [
  {
   "cell_type": "code",
   "execution_count": 5,
   "id": "f681d69b",
   "metadata": {},
   "outputs": [],
   "source": [
    "import cv2\n",
    "import numpy as np\n",
    "\n",
    "# Load video file or capture from webcam\n",
    "video_source = \"fire.mp4\"  # Set the video source path\n",
    "cap = cv2.VideoCapture(video_source)\n",
    "\n",
    "while True:\n",
    "    ret, frame = cap.read()\n",
    "\n",
    "    if not ret:\n",
    "        break\n",
    "\n",
    "    # Convert the frame to the HSV color space\n",
    "    hsv = cv2.cvtColor(frame, cv2.COLOR_BGR2HSV)\n",
    "\n",
    "    # Define the lower and upper bounds for the color red (fire)\n",
    "    lower_red = np.array([0, 50, 50])  # Lower bound (reddish hues)\n",
    "    upper_red = np.array([10, 255, 255])  # Upper bound (reddish hues)\n",
    "\n",
    "    # Create a mask to detect red pixels in the frame\n",
    "    mask = cv2.inRange(hsv, lower_red, upper_red)\n",
    "\n",
    "    # Count the number of red pixels in the mask\n",
    "    red_pixel_count = cv2.countNonZero(mask)\n",
    "\n",
    "    # Define a threshold for considering it as fire (adjust as needed)\n",
    "    fire_threshold = 1000\n",
    "\n",
    "    # Display fire detection status\n",
    "    if red_pixel_count > fire_threshold:\n",
    "        message = \"Fire Detected!\"\n",
    "        color = (0, 0, 255)  # Red color for text\n",
    "    else:\n",
    "        message = \"No Fire Detected\"\n",
    "        color = (0, 255, 0)  # Green color for text\n",
    "\n",
    "    # Display the message on the frame\n",
    "    cv2.putText(frame, message, (10, 30), cv2.FONT_HERSHEY_SIMPLEX, 1, color, 2)\n",
    "\n",
    "    # Display the frame with fire detection status\n",
    "    cv2.imshow(\"Fire Detection\", frame)\n",
    "\n",
    "    if cv2.waitKey(1) & 0xFF == ord('q'):\n",
    "        break\n",
    "\n",
    "cap.release()\n",
    "cv2.destroyAllWindows()\n"
   ]
  },
  {
   "cell_type": "code",
   "execution_count": null,
   "id": "a3db7a08",
   "metadata": {},
   "outputs": [],
   "source": []
  },
  {
   "cell_type": "code",
   "execution_count": null,
   "id": "90b898f2",
   "metadata": {},
   "outputs": [],
   "source": []
  }
 ],
 "metadata": {
  "kernelspec": {
   "display_name": "Python 3",
   "language": "python",
   "name": "python3"
  },
  "language_info": {
   "codemirror_mode": {
    "name": "ipython",
    "version": 3
   },
   "file_extension": ".py",
   "mimetype": "text/x-python",
   "name": "python",
   "nbconvert_exporter": "python",
   "pygments_lexer": "ipython3",
   "version": "3.8.8"
  }
 },
 "nbformat": 4,
 "nbformat_minor": 5
}
